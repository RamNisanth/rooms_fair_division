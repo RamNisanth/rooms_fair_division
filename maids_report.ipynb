{
 "cells": [
  {
   "cell_type": "code",
   "execution_count": 5,
   "id": "3cba2b7b",
   "metadata": {},
   "outputs": [
    {
     "name": "stdout",
     "output_type": "stream",
     "text": [
      "Cell Value: DATE, Cell Color: 00000000\n",
      "Cell Value: KING NS, Cell Color: 00000000\n",
      "Cell Value: 103, Cell Color: FF92D050\n",
      "Cell Value: 111, Cell Color: FF92D050\n",
      "Cell Value: 112, Cell Color: 00000000\n",
      "Cell Value: 115, Cell Color: FF92D050\n",
      "Cell Value: 116, Cell Color: 00000000\n",
      "Cell Value: 117, Cell Color: FF00B0F0\n",
      "Cell Value: 118, Cell Color: FF00B0F0\n",
      "Cell Value: 119, Cell Color: 00000000\n",
      "Cell Value: 120, Cell Color: 00000000\n",
      "Cell Value: 122, Cell Color: 00000000\n",
      "Cell Value: 203, Cell Color: FF92D050\n",
      "Cell Value: 204, Cell Color: 00000000\n",
      "Cell Value: 206, Cell Color: 00000000\n",
      "Cell Value: 208, Cell Color: 00000000\n",
      "Cell Value: 215, Cell Color: 00000000\n",
      "Cell Value: 216, Cell Color: FFFF0000\n",
      "Cell Value: 218, Cell Color: 00000000\n",
      "Cell Value: 221, Cell Color: 00000000\n",
      "Cell Value: 226, Cell Color: 00000000\n",
      "{'FFFF0000', 'FF00B0F0', '00000000', 'FF92D050'}\n"
     ]
    }
   ],
   "source": [
    "import openpyxl\n",
    "\n",
    "excel_file_path = \"Rooms_availability.xlsx\"\n",
    "workbook = openpyxl.load_workbook(excel_file_path)\n",
    "\n",
    "sheet_name = 'Sheet1'\n",
    "KING_NS = 'A'\n",
    "KING_SK = 'B'\n",
    "DB_NS = 'C'\n",
    "DB_SK = 'D'\n",
    "K_JAC_NS = 'E'\n",
    "K_JAC_SK = 'F'\n",
    "RM2_SK = 'G'\n",
    "WEEKLY = 'I'\n",
    "CLOSED_RMS = 'J'\n",
    "\n",
    "sheet = workbook[sheet_name]\n",
    "column = sheet[column_letter]\n",
    "\n",
    "\n",
    "\n",
    "for cell in column:\n",
    "    cell_value = cell.value\n",
    "    cell_color = cell.fill.fgColor.rgb if cell.fill else None\n",
    "    print(f\"Cell Value: {cell_value}, Cell Color: {cell_color}\")\n",
    "    k.add(cell_color)\n",
    "\n",
    "workbook.close()\n",
    "\n",
    "# FF92D050--green;  00000000 -- no color; FFFF0000 -- red; FF92D050 -- sky blue "
   ]
  },
  {
   "cell_type": "code",
   "execution_count": null,
   "id": "683042be",
   "metadata": {},
   "outputs": [],
   "source": []
  }
 ],
 "metadata": {
  "kernelspec": {
   "display_name": "Python 3 (ipykernel)",
   "language": "python",
   "name": "python3"
  },
  "language_info": {
   "codemirror_mode": {
    "name": "ipython",
    "version": 3
   },
   "file_extension": ".py",
   "mimetype": "text/x-python",
   "name": "python",
   "nbconvert_exporter": "python",
   "pygments_lexer": "ipython3",
   "version": "3.9.13"
  }
 },
 "nbformat": 4,
 "nbformat_minor": 5
}
